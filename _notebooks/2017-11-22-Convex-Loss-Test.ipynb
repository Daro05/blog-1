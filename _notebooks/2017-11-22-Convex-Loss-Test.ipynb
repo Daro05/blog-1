{
 "cells": [
  {
   "cell_type": "markdown",
   "metadata": {},
   "source": [
    "# \"NEW Notes on Convexity of Loss Functions for Classification\"\n",
    "- description:  Following up on a question that arose in Week 3 of Andrew Ng's Machine Learning course.\n",
    "- toc: true\n",
    "- branch: master\n",
    "- badges: true\n",
    "- hide: false\n",
    "- comments: true\n",
    "- metadata_key1: metadata_value1\n",
    "- metadata_key2: metadata_value2\n",
    "- image: images/convexity/convexity_header_new.jpg"
   ]
  },
  {
   "cell_type": "markdown",
   "metadata": {},
   "source": [
    "This is a post where I'm investigating [convexity](https://en.wikipedia.org/wiki/Convex_function) a bit, as it relates to neural networks.\n",
    "\n",
    "Andrew Ng, in Week 3 of his [Coursera course on Machine Learning](https://www.coursera.org/learn/machine-learning/home/welcome), shows the following image with respect to the \"cost function\" to be optimized:\n",
    "\n",
    "Andrew Ng, in Week 3 of his [Coursera course on Machine Learning](https://www.coursera.org/learn/machine-learning/home/welcome), shows the following image with respect to the \"cost function\" to be optimized (as slide 14 of Lecture 6):\n",
    "\n",
    "![ng_convexity](images/convexity/ng_loss_convexity.png)\n",
    "\n",
    "I wanted to investigate this: Could I reproduce the two graphs he sketched?   The two different loss functions are the mean squared error (MSE or sometimes just SE) and cross entropy (CE):\n",
    "\n",
    "\n",
    "where $y_i$ are the true values (0 or 1) and $h_i = h(x_i)$ are the predictions. \n",
    "\n",
    "**TL/DR: No I can't reproduce his sketches.  The graph I get for sum of the squared error (SE) doesn't have the wiggles that his drawing on the left does. *(Perhaps he was just doodling an example of an arbitrary non-convex function, rather than the squared loss in particular?)*   Takeways at the bottom of this, re. the difference between a convex *loss function (by itself)* vs. a convex loss for a *problem* -- i.e. the individual terms are convex for either function, but the *sum* of these terms is actually not strictly convex for either function (for this problem). **\n",
    "\n",
    "I read a few posts about this first...\n",
    "* [Math StackExchange: Show that logistic regression with squared loss function is non-convex](https://math.stackexchange.com/questions/1985008/show-that-logistic-regression-with-squared-loss-function-is-non-convex/2176466), which includes a link to [this nice demo on Desmos](https://www.desmos.com/calculator/kxz6lzszf9)\n",
    "* https://math.stackexchange.com/questions/2193478/loss-function-for-logistic-regression\n",
    "* https://en.wikipedia.org/wiki/Loss_functions_for_classification seems to say that squared loss is convex. ?? \n",
    "\n",
    "...but then wanted to try for myself.  As follows:"
   ]
  },
  {
   "cell_type": "code",
   "execution_count": 1,
   "metadata": {},
   "outputs": [],
   "source": [
    "# preliminary set up. ipympl allows for interactive plots; replace it with inline if not working\n",
    "#%matplotlib ipympl\n",
    "%matplotlib inline\n",
    "from mpl_toolkits.mplot3d import Axes3D\n",
    "import matplotlib.pyplot as plt\n",
    "from matplotlib import cm\n",
    "import numpy as np"
   ]
  },
  {
   "cell_type": "code",
   "execution_count": 2,
   "metadata": {},
   "outputs": [],
   "source": [
    "# basic functions for data operations\n",
    "def h(x,a,b):                            # h = logistic function.  a is 'weight' and b is 'bias'\n",
    "    return 1/(1 + np.exp(-(a*x + b)))    # For code below, a & b should be scalars, x can be anything\n",
    "\n",
    "def classify_x(x, threshold):   \n",
    "    out = 0*x\n",
    "    out[x > threshold] = 1.0\n",
    "    return out"
   ]
  },
  {
   "cell_type": "code",
   "execution_count": null,
   "metadata": {},
   "outputs": [],
   "source": []
  }
 ],
 "metadata": {
  "kernelspec": {
   "display_name": "Python 3",
   "language": "python",
   "name": "python3"
  },
  "language_info": {
   "codemirror_mode": {
    "name": "ipython",
    "version": 3
   },
   "file_extension": ".py",
   "mimetype": "text/x-python",
   "name": "python",
   "nbconvert_exporter": "python",
   "pygments_lexer": "ipython3",
   "version": "3.6.9"
  }
 },
 "nbformat": 4,
 "nbformat_minor": 4
}
