{
 "cells": [
  {
   "cell_type": "markdown",
   "metadata": {},
   "source": [
    "---\n",
    "# \"Citations2 in Fastpages via BibTeX and jekyll-scholar\"\n",
    "- description: Supporting scholarly blogging by drawing references from your database.\n",
    "- layout: post\n",
    "- toc: true\n",
    "- badges: false\n",
    "- comments: true\n",
    "- image: images/book_image_smaller.jpg\n",
    "- hide: false\n",
    "- search_exclude: false\n",
    "---"
   ]
  },
  {
   "cell_type": "markdown",
   "metadata": {},
   "source": [
    "## How to Cite \n",
    "\n",
    "For demonstration purposes, I'll take the liberty of citing a couple of my recent papers, namely the first SignalTrain paper {% cite signaltrain %} and the new one by Billy Mitchell {% cite billy_signaltrain2 %}.  \n",
    "\n",
    "The two citation markings above point to the References section at the end of this post where the full references are printed out in the bibliography style of my choice.\n",
    "\n",
    "\n",
    "## Drawing from the Bibliography \n",
    "\n",
    "In the main blog directory, create a new directory called `_bibliography/`, and place your BibTeX file there as [references.bib](../_bibliography/references.bib).  In the case of this demo, the references file looks like this:\n",
    "\n",
    "```bibtex\n",
    "@conference{signaltrain,\n",
    "  title = {Profiling Audio Compressors with Deep Neural Networks},\n",
    "  author = {Hawley, Scott H. and Colburn, Benjamin and Mimilakis, Stylianos Ioannis},\n",
    "  booktitle = {Audio Engineering Society Convention 147},\n",
    "  month = {Oct},\n",
    "  year = {2019},\n",
    "  url = {http://www.aes.org/e-lib/browse.cfm?elib=20595}\n",
    "}               \n",
    "\n",
    "@article{billy_signaltrain2, \n",
    "  title={Exploring Quality and Generalizability in Parameterized Neural Audio Effects},\n",
    "  author={William Mitchell and Scott H. Hawley},\n",
    "  journal={ArXiv},  \n",
    "  year={2020},\n",
    "  volume={abs/2006.05584} \n",
    "  url = {https://arxiv.org/abs/2006.05584}\n",
    "} \n",
    "```\n",
    "\n",
    "Note that this  (single) references file is for your entire blog. The great thing about this is that all your Jupyter notebooks and Markdown posts will draw from this same file, which could be hundreds of references long, and jekyll-scholar will only include the ones you need for each post.\n",
    "\n",
    "Finally, at the end of your post, you signal the creation of the list of references by using the Liquid tag\n",
    "\n",
    "...so I'll put that at the very bottom of this file.  (Currently that'll generate an error, because we haven't enabled jekyll-scholar yet, but we'll do that next.)   The optional argument `--cited` means it'll only list the references cited in your post.\n",
    "\n",
    "\n",
    "## Enabling Jekyll-Scholar\n",
    "\n",
    "\n",
    "To enable jekyll-scholar, all we need to do is make the following two changes, and perhaps a third.  \n",
    "\n",
    "1. In `_config.yml`, add \"` - jekyll-scholar`\" to the list of `plugins:`.\n",
    "\n",
    "2. Edit the `Gemfile` to include `gem 'jekyll-scholar'` where the other plugins are listed. \n",
    "\n",
    "3. Optional: The default citation format is \"apa\".  If you want to change that, you can add the following to your `_config.yml` file: \n",
    "\n",
    "   ```yaml\n",
    "   scholar:\n",
    "       style: <name>\n",
    "   ```\n",
    "\n",
    "   ...naming one of the styles in the [CSL style repository](https://github.com/citation-style-language/styles) (but leaving off the `.csl` ending).  Tip from the CSL maintainers:\n",
    "\n",
    "   > To quickly search the styles in the GitHub [CSL style repository](https://github.com/citation-style-language/styles) by file name, press “t” to activate GitHub’s [File Finder](https://github.com/blog/793-introducing-the-file-finder) and start typing.\n",
    "\n",
    "   Note however that the `csl-styles` Gem package used by jekyll-scholar **lags behind the official CSL style repository**, so some names you choose may not work.  In that case, you can supply a CSL file yourself.  For this demo, I found the file `physical-review-d.csl`, added it to my main blog directory, and then specified the style name `physical-review-d` in `_config.yml`.   This produced the bracketed-number citation markers above, and the reference format you see below in the References section. (**EDIT:** Actually I customized the CSL file a bit after that, so my new file is `custom.csl`.)\n",
    "\n",
    "The convenience of this BibTeX/jekyll-scholar approach is that instead of having to manually edit references on each individual page -- say, if you wanted to change citation formats (or alternatively, update information about a paper  cited in multiple posts) -- now you only change **one line** in `_config.yml` (or update one spot in `references.bib`) and the system \"builds out\" the change \"everywhere.\"\n",
    "\n",
    "Happy blogging! "
   ]
  },
  {
   "cell_type": "markdown",
   "metadata": {},
   "source": [
    "# References\n",
    "{% bibliography --cited %}"
   ]
  }
 ],
 "metadata": {
  "kernelspec": {
   "display_name": "Python 3",
   "language": "python",
   "name": "python3"
  },
  "language_info": {
   "codemirror_mode": {
    "name": "ipython",
    "version": 3
   },
   "file_extension": ".py",
   "mimetype": "text/x-python",
   "name": "python",
   "nbconvert_exporter": "python",
   "pygments_lexer": "ipython3",
   "version": "3.6.9"
  }
 },
 "nbformat": 4,
 "nbformat_minor": 4
}
